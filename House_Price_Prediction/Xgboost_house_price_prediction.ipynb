{
  "metadata": {
    "kernelspec": {
      "display_name": "Python 3",
      "language": "python",
      "name": "python3"
    },
    "language_info": {
      "name": "python",
      "version": "3.11.11",
      "mimetype": "text/x-python",
      "codemirror_mode": {
        "name": "ipython",
        "version": 3
      },
      "pygments_lexer": "ipython3",
      "nbconvert_exporter": "python",
      "file_extension": ".py"
    },
    "kaggle": {
      "accelerator": "none",
      "dataSources": [
        {
          "sourceId": 10211,
          "databundleVersionId": 111096,
          "sourceType": "competition"
        }
      ],
      "isInternetEnabled": false,
      "language": "python",
      "sourceType": "notebook",
      "isGpuEnabled": false
    },
    "colab": {
      "name": "Exercise: Pipelines",
      "provenance": [],
      "include_colab_link": true
    }
  },
  "nbformat_minor": 0,
  "nbformat": 4,
  "cells": [
    {
      "cell_type": "markdown",
      "metadata": {
        "id": "view-in-github",
        "colab_type": "text"
      },
      "source": [
        "<a href=\"https://colab.research.google.com/github/Haadikp/DataScience-and-ML-projects/blob/main/House_Price_Prediction/Xgboost_house_price_prediction.ipynb\" target=\"_parent\"><img src=\"https://colab.research.google.com/assets/colab-badge.svg\" alt=\"Open In Colab\"/></a>"
      ]
    },
    {
      "source": [
        "# IMPORTANT: SOME KAGGLE DATA SOURCES ARE PRIVATE\n",
        "# RUN THIS CELL IN ORDER TO IMPORT YOUR KAGGLE DATA SOURCES.\n",
        "import kagglehub\n",
        "kagglehub.login()\n"
      ],
      "metadata": {
        "id": "3TGudgPlFLiE"
      },
      "cell_type": "code",
      "outputs": [],
      "execution_count": null
    },
    {
      "source": [
        "# IMPORTANT: RUN THIS CELL IN ORDER TO IMPORT YOUR KAGGLE DATA SOURCES,\n",
        "# THEN FEEL FREE TO DELETE THIS CELL.\n",
        "# NOTE: THIS NOTEBOOK ENVIRONMENT DIFFERS FROM KAGGLE'S PYTHON\n",
        "# ENVIRONMENT SO THERE MAY BE MISSING LIBRARIES USED BY YOUR\n",
        "# NOTEBOOK.\n",
        "\n",
        "home_data_for_ml_course_path = kagglehub.competition_download('home-data-for-ml-course')\n",
        "\n",
        "print('Data source import complete.')\n"
      ],
      "metadata": {
        "id": "k7rahjc5FLiG"
      },
      "cell_type": "code",
      "outputs": [],
      "execution_count": null
    },
    {
      "cell_type": "markdown",
      "source": [
        "**This notebook is an exercise in the [Intermediate Machine Learning](https://www.kaggle.com/learn/intermediate-machine-learning) course.  You can reference the tutorial at [this link](https://www.kaggle.com/alexisbcook/pipelines).**\n",
        "\n",
        "---\n"
      ],
      "metadata": {
        "id": "_k3yQM1SFLiG"
      }
    },
    {
      "cell_type": "markdown",
      "source": [
        "In this exercise, you will use **pipelines** to improve the efficiency of your machine learning code.\n",
        "\n",
        "# Setup\n",
        "\n",
        "The questions below will give you feedback on your work. Run the following cell to set up the feedback system."
      ],
      "metadata": {
        "id": "FbbEj5c-FLiH"
      }
    },
    {
      "cell_type": "code",
      "source": [
        "# Set up code checking\n",
        "import os\n",
        "if not os.path.exists(\"../input/train.csv\"):\n",
        "    os.symlink(\"../input/home-data-for-ml-course/train.csv\", \"../input/train.csv\")\n",
        "    os.symlink(\"../input/home-data-for-ml-course/test.csv\", \"../input/test.csv\")\n",
        "from learntools.core import binder\n",
        "binder.bind(globals())\n",
        "from learntools.ml_intermediate.ex4 import *\n",
        "print(\"Setup Complete\")"
      ],
      "metadata": {
        "trusted": true,
        "execution": {
          "iopub.status.busy": "2025-06-25T16:58:06.549574Z",
          "iopub.execute_input": "2025-06-25T16:58:06.549821Z",
          "iopub.status.idle": "2025-06-25T16:58:08.073804Z",
          "shell.execute_reply.started": "2025-06-25T16:58:06.5498Z",
          "shell.execute_reply": "2025-06-25T16:58:08.072741Z"
        },
        "id": "iIoE3To-FLiH",
        "outputId": "2ddf82dc-2c18-4780-d557-39eca77b1086"
      },
      "outputs": [
        {
          "name": "stdout",
          "text": "Setup Complete\n",
          "output_type": "stream"
        }
      ],
      "execution_count": null
    },
    {
      "cell_type": "markdown",
      "source": [
        "You will work with data from the [Housing Prices Competition for Kaggle Learn Users](https://www.kaggle.com/c/home-data-for-ml-course).\n",
        "\n",
        "![Ames Housing dataset image](https://storage.googleapis.com/kaggle-media/learn/images/lTJVG4e.png)\n",
        "\n",
        "Run the next code cell without changes to load the training and validation sets in `X_train`, `X_valid`, `y_train`, and `y_valid`.  The test set is loaded in `X_test`."
      ],
      "metadata": {
        "id": "UEw0gcqjFLiI"
      }
    },
    {
      "cell_type": "code",
      "source": [
        "import pandas as pd\n",
        "from sklearn.model_selection import train_test_split\n",
        "\n",
        "# Read the data\n",
        "X_full = pd.read_csv('../input/train.csv', index_col='Id')\n",
        "X_test_full = pd.read_csv('../input/test.csv', index_col='Id')\n",
        "\n",
        "# Remove rows with missing target, separate target from predictors\n",
        "X_full.dropna(axis=0, subset=['SalePrice'], inplace=True)\n",
        "y = X_full.SalePrice\n",
        "X_full.drop(['SalePrice'], axis=1, inplace=True)\n",
        "\n",
        "# Break off validation set from training data\n",
        "X_train_full, X_valid_full, y_train, y_valid = train_test_split(X_full, y,\n",
        "                                                                train_size=0.8, test_size=0.2,\n",
        "                                                                random_state=0)\n",
        "\n",
        "# \"Cardinality\" means the number of unique values in a column\n",
        "# Select categorical columns with relatively low cardinality (convenient but arbitrary)\n",
        "categorical_cols = [cname for cname in X_train_full.columns if\n",
        "                    X_train_full[cname].nunique() < 10 and\n",
        "                    X_train_full[cname].dtype == \"object\"]\n",
        "\n",
        "# Select numerical columns\n",
        "numerical_cols = [cname for cname in X_train_full.columns if\n",
        "                X_train_full[cname].dtype in ['int64', 'float64']]\n",
        "\n",
        "# Keep selected columns only\n",
        "my_cols = categorical_cols + numerical_cols\n",
        "X_train = X_train_full[my_cols].copy()\n",
        "X_valid = X_valid_full[my_cols].copy()\n",
        "X_test = X_test_full[my_cols].copy()"
      ],
      "metadata": {
        "trusted": true,
        "execution": {
          "iopub.status.busy": "2025-06-25T16:58:12.760822Z",
          "iopub.execute_input": "2025-06-25T16:58:12.761187Z",
          "iopub.status.idle": "2025-06-25T16:58:12.994829Z",
          "shell.execute_reply.started": "2025-06-25T16:58:12.761161Z",
          "shell.execute_reply": "2025-06-25T16:58:12.994002Z"
        },
        "id": "7oBgJ2wyFLiI"
      },
      "outputs": [],
      "execution_count": null
    },
    {
      "cell_type": "code",
      "source": [
        "def add_features(df):\n",
        "    df = df.copy()\n",
        "    # Total square footage\n",
        "    df['TotalSF'] = df['GrLivArea'] + df['TotalBsmtSF'].fillna(0) + df['1stFlrSF'] + df['2ndFlrSF']\n",
        "    # House age at sale\n",
        "    df['HouseAge'] = df['YrSold'] - df['YearBuilt']\n",
        "    # Remodel age\n",
        "    df['RemodAge'] = df['YrSold'] - df['YearRemodAdd']\n",
        "    return df"
      ],
      "metadata": {
        "trusted": true,
        "execution": {
          "iopub.status.busy": "2025-06-25T16:58:18.530528Z",
          "iopub.execute_input": "2025-06-25T16:58:18.530874Z",
          "iopub.status.idle": "2025-06-25T16:58:18.537475Z",
          "shell.execute_reply.started": "2025-06-25T16:58:18.530849Z",
          "shell.execute_reply": "2025-06-25T16:58:18.536278Z"
        },
        "id": "zdEvGSmQFLiI"
      },
      "outputs": [],
      "execution_count": null
    },
    {
      "cell_type": "code",
      "source": [
        "X_train.head()"
      ],
      "metadata": {
        "trusted": true,
        "execution": {
          "iopub.status.busy": "2025-06-25T16:58:23.819112Z",
          "iopub.execute_input": "2025-06-25T16:58:23.819515Z",
          "iopub.status.idle": "2025-06-25T16:58:23.857397Z",
          "shell.execute_reply.started": "2025-06-25T16:58:23.819484Z",
          "shell.execute_reply": "2025-06-25T16:58:23.856387Z"
        },
        "id": "iaUtj-iMFLiJ",
        "outputId": "359e1d9a-0449-4109-b023-6ab62a70ce84"
      },
      "outputs": [
        {
          "execution_count": 4,
          "output_type": "execute_result",
          "data": {
            "text/plain": "    MSZoning Street Alley LotShape LandContour Utilities LotConfig LandSlope  \\\nId                                                                             \n619       RL   Pave   NaN      Reg         Lvl    AllPub    Inside       Gtl   \n871       RL   Pave   NaN      Reg         Lvl    AllPub    Inside       Gtl   \n93        RL   Pave  Grvl      IR1         HLS    AllPub    Inside       Gtl   \n818       RL   Pave   NaN      IR1         Lvl    AllPub   CulDSac       Gtl   \n303       RL   Pave   NaN      IR1         Lvl    AllPub    Corner       Gtl   \n\n    Condition1 Condition2  ... GarageArea WoodDeckSF OpenPorchSF  \\\nId                         ...                                     \n619       Norm       Norm  ...        774          0         108   \n871       PosN       Norm  ...        308          0           0   \n93        Norm       Norm  ...        432          0           0   \n818       Norm       Norm  ...        857        150          59   \n303       Norm       Norm  ...        843        468          81   \n\n    EnclosedPorch 3SsnPorch ScreenPorch PoolArea MiscVal MoSold YrSold  \nId                                                                      \n619             0         0         260        0       0      7   2007  \n871             0         0           0        0       0      8   2009  \n93             44         0           0        0       0      8   2009  \n818             0         0           0        0       0      7   2008  \n303             0         0           0        0       0      1   2006  \n\n[5 rows x 76 columns]",
            "text/html": "<div>\n<style scoped>\n    .dataframe tbody tr th:only-of-type {\n        vertical-align: middle;\n    }\n\n    .dataframe tbody tr th {\n        vertical-align: top;\n    }\n\n    .dataframe thead th {\n        text-align: right;\n    }\n</style>\n<table border=\"1\" class=\"dataframe\">\n  <thead>\n    <tr style=\"text-align: right;\">\n      <th></th>\n      <th>MSZoning</th>\n      <th>Street</th>\n      <th>Alley</th>\n      <th>LotShape</th>\n      <th>LandContour</th>\n      <th>Utilities</th>\n      <th>LotConfig</th>\n      <th>LandSlope</th>\n      <th>Condition1</th>\n      <th>Condition2</th>\n      <th>...</th>\n      <th>GarageArea</th>\n      <th>WoodDeckSF</th>\n      <th>OpenPorchSF</th>\n      <th>EnclosedPorch</th>\n      <th>3SsnPorch</th>\n      <th>ScreenPorch</th>\n      <th>PoolArea</th>\n      <th>MiscVal</th>\n      <th>MoSold</th>\n      <th>YrSold</th>\n    </tr>\n    <tr>\n      <th>Id</th>\n      <th></th>\n      <th></th>\n      <th></th>\n      <th></th>\n      <th></th>\n      <th></th>\n      <th></th>\n      <th></th>\n      <th></th>\n      <th></th>\n      <th></th>\n      <th></th>\n      <th></th>\n      <th></th>\n      <th></th>\n      <th></th>\n      <th></th>\n      <th></th>\n      <th></th>\n      <th></th>\n      <th></th>\n    </tr>\n  </thead>\n  <tbody>\n    <tr>\n      <th>619</th>\n      <td>RL</td>\n      <td>Pave</td>\n      <td>NaN</td>\n      <td>Reg</td>\n      <td>Lvl</td>\n      <td>AllPub</td>\n      <td>Inside</td>\n      <td>Gtl</td>\n      <td>Norm</td>\n      <td>Norm</td>\n      <td>...</td>\n      <td>774</td>\n      <td>0</td>\n      <td>108</td>\n      <td>0</td>\n      <td>0</td>\n      <td>260</td>\n      <td>0</td>\n      <td>0</td>\n      <td>7</td>\n      <td>2007</td>\n    </tr>\n    <tr>\n      <th>871</th>\n      <td>RL</td>\n      <td>Pave</td>\n      <td>NaN</td>\n      <td>Reg</td>\n      <td>Lvl</td>\n      <td>AllPub</td>\n      <td>Inside</td>\n      <td>Gtl</td>\n      <td>PosN</td>\n      <td>Norm</td>\n      <td>...</td>\n      <td>308</td>\n      <td>0</td>\n      <td>0</td>\n      <td>0</td>\n      <td>0</td>\n      <td>0</td>\n      <td>0</td>\n      <td>0</td>\n      <td>8</td>\n      <td>2009</td>\n    </tr>\n    <tr>\n      <th>93</th>\n      <td>RL</td>\n      <td>Pave</td>\n      <td>Grvl</td>\n      <td>IR1</td>\n      <td>HLS</td>\n      <td>AllPub</td>\n      <td>Inside</td>\n      <td>Gtl</td>\n      <td>Norm</td>\n      <td>Norm</td>\n      <td>...</td>\n      <td>432</td>\n      <td>0</td>\n      <td>0</td>\n      <td>44</td>\n      <td>0</td>\n      <td>0</td>\n      <td>0</td>\n      <td>0</td>\n      <td>8</td>\n      <td>2009</td>\n    </tr>\n    <tr>\n      <th>818</th>\n      <td>RL</td>\n      <td>Pave</td>\n      <td>NaN</td>\n      <td>IR1</td>\n      <td>Lvl</td>\n      <td>AllPub</td>\n      <td>CulDSac</td>\n      <td>Gtl</td>\n      <td>Norm</td>\n      <td>Norm</td>\n      <td>...</td>\n      <td>857</td>\n      <td>150</td>\n      <td>59</td>\n      <td>0</td>\n      <td>0</td>\n      <td>0</td>\n      <td>0</td>\n      <td>0</td>\n      <td>7</td>\n      <td>2008</td>\n    </tr>\n    <tr>\n      <th>303</th>\n      <td>RL</td>\n      <td>Pave</td>\n      <td>NaN</td>\n      <td>IR1</td>\n      <td>Lvl</td>\n      <td>AllPub</td>\n      <td>Corner</td>\n      <td>Gtl</td>\n      <td>Norm</td>\n      <td>Norm</td>\n      <td>...</td>\n      <td>843</td>\n      <td>468</td>\n      <td>81</td>\n      <td>0</td>\n      <td>0</td>\n      <td>0</td>\n      <td>0</td>\n      <td>0</td>\n      <td>1</td>\n      <td>2006</td>\n    </tr>\n  </tbody>\n</table>\n<p>5 rows × 76 columns</p>\n</div>"
          },
          "metadata": {}
        }
      ],
      "execution_count": null
    },
    {
      "cell_type": "code",
      "source": [
        "# Apply feature engineering\n",
        "X_train = add_features(X_train)\n",
        "X_valid = add_features(X_valid)\n",
        "X_test = add_features(X_test)"
      ],
      "metadata": {
        "trusted": true,
        "execution": {
          "iopub.status.busy": "2025-06-25T16:58:29.077668Z",
          "iopub.execute_input": "2025-06-25T16:58:29.078097Z",
          "iopub.status.idle": "2025-06-25T16:58:29.09429Z",
          "shell.execute_reply.started": "2025-06-25T16:58:29.078043Z",
          "shell.execute_reply": "2025-06-25T16:58:29.093281Z"
        },
        "id": "S0-d0S8DFLiJ"
      },
      "outputs": [],
      "execution_count": null
    },
    {
      "cell_type": "code",
      "source": [
        "# Update numerical columns to include new features\n",
        "numerical_cols += ['TotalSF', 'HouseAge', 'RemodAge']"
      ],
      "metadata": {
        "trusted": true,
        "execution": {
          "iopub.status.busy": "2025-06-25T16:58:32.255274Z",
          "iopub.execute_input": "2025-06-25T16:58:32.255612Z",
          "iopub.status.idle": "2025-06-25T16:58:32.261353Z",
          "shell.execute_reply.started": "2025-06-25T16:58:32.255587Z",
          "shell.execute_reply": "2025-06-25T16:58:32.260147Z"
        },
        "id": "HU2JUl25FLiJ"
      },
      "outputs": [],
      "execution_count": null
    },
    {
      "cell_type": "code",
      "source": [
        "# Drop columns that may be irrelevant or have too high cardinality\n",
        "columns_to_drop = ['Utilities', 'Street', 'PoolQC', 'MiscFeature']\n",
        "X_train = X_train.drop(columns=[col for col in columns_to_drop if col in X_train.columns], axis=1)\n",
        "X_valid = X_valid.drop(columns=[col for col in columns_to_drop if col in X_valid.columns], axis=1)\n",
        "X_test = X_test.drop(columns=[col for col in columns_to_drop if col in X_test.columns], axis=1)\n",
        "\n",
        "# Update categorical and numerical columns after dropping\n",
        "categorical_cols = [cname for cname in X_train.columns if X_train[cname].nunique() < 10 and X_train[cname].dtype == \"object\"]\n",
        "numerical_cols = [cname for cname in X_train.columns if X_train[cname].dtype in ['int64', 'float64']]"
      ],
      "metadata": {
        "trusted": true,
        "execution": {
          "iopub.status.busy": "2025-06-25T16:58:36.539611Z",
          "iopub.execute_input": "2025-06-25T16:58:36.539906Z",
          "iopub.status.idle": "2025-06-25T16:58:36.563717Z",
          "shell.execute_reply.started": "2025-06-25T16:58:36.539884Z",
          "shell.execute_reply": "2025-06-25T16:58:36.562133Z"
        },
        "id": "p4djV6njFLiJ"
      },
      "outputs": [],
      "execution_count": null
    },
    {
      "cell_type": "code",
      "source": [
        "from sklearn.compose import ColumnTransformer\n",
        "from sklearn.pipeline import Pipeline\n",
        "from sklearn.impute import SimpleImputer\n",
        "from sklearn.preprocessing import OneHotEncoder\n",
        "from sklearn.metrics import mean_absolute_error\n",
        "from xgboost import XGBRegressor\n",
        "\n",
        "# Preprocessing for numerical data: Use median imputation\n",
        "numerical_transformer = SimpleImputer(strategy='median')\n",
        "\n",
        "# Preprocessing for categorical data: Retain most_frequent imputation and one-hot encoding\n",
        "categorical_transformer = Pipeline(steps=[\n",
        "    ('imputer', SimpleImputer(strategy='most_frequent')),\n",
        "    ('onehot', OneHotEncoder(handle_unknown='ignore'))\n",
        "])\n",
        "\n",
        "# Bundle preprocessing for numerical and categorical data\n",
        "preprocessor = ColumnTransformer(\n",
        "    transformers=[\n",
        "        ('num', numerical_transformer, numerical_cols),\n",
        "        ('cat', categorical_transformer, categorical_cols)\n",
        "    ])\n",
        "\n",
        "# Define model with optimized hyperparameters and early stopping\n",
        "model = XGBRegressor(\n",
        "    n_estimators=1000,\n",
        "    learning_rate=0.03,\n",
        "    max_depth=4,\n",
        "    subsample=0.8,\n",
        "    colsample_bytree=0.8,\n",
        "    random_state=0,\n",
        "    early_stopping_rounds=50\n",
        ")\n",
        "\n",
        "# Bundle preprocessing and modeling code in a pipeline\n",
        "pipe = Pipeline(steps=[\n",
        "    ('preprocessor', preprocessor),\n",
        "    ('model', model)\n",
        "])\n",
        "\n",
        "# Fit the preprocessor on training data\n",
        "pipe.named_steps['preprocessor'].fit(X_train)\n",
        "\n",
        "# Preprocess the validation set for eval_set\n",
        "X_valid_transformed = pipe.named_steps['preprocessor'].transform(X_valid)\n",
        "\n",
        "# Fit model with early stopping, using preprocessed validation set\n",
        "pipe.fit(X_train, y_train,\n",
        "         model__eval_set=[(X_valid_transformed, y_valid)],\n",
        "         model__verbose=False)\n",
        "\n",
        "# Get predictions on validation set\n",
        "prediction = pipe.predict(X_valid)\n",
        "print('MAE:', mean_absolute_error(y_valid, prediction))"
      ],
      "metadata": {
        "trusted": true,
        "execution": {
          "iopub.status.busy": "2025-06-25T17:04:20.567317Z",
          "iopub.execute_input": "2025-06-25T17:04:20.568231Z",
          "iopub.status.idle": "2025-06-25T17:04:22.152977Z",
          "shell.execute_reply.started": "2025-06-25T17:04:20.5682Z",
          "shell.execute_reply": "2025-06-25T17:04:22.151152Z"
        },
        "id": "cneTlh7mFLiJ",
        "outputId": "1fd50fa2-cbd3-4bb7-a2be-73275080d427"
      },
      "outputs": [
        {
          "name": "stdout",
          "text": "MAE: 15147.473592679795\n",
          "output_type": "stream"
        }
      ],
      "execution_count": null
    },
    {
      "cell_type": "code",
      "source": [
        "\n",
        "\n",
        "prediction = pipe.predict(X_valid)\n",
        "\n",
        "print('MAE:', mean_absolute_error(y_valid, prediction))\n",
        "# Check your answer\n",
        "# step_1.a.check()"
      ],
      "metadata": {
        "trusted": true,
        "execution": {
          "iopub.status.busy": "2025-06-25T17:04:56.617476Z",
          "iopub.execute_input": "2025-06-25T17:04:56.617889Z",
          "iopub.status.idle": "2025-06-25T17:04:56.642084Z",
          "shell.execute_reply.started": "2025-06-25T17:04:56.617863Z",
          "shell.execute_reply": "2025-06-25T17:04:56.639906Z"
        },
        "id": "dkkb539KFLiK",
        "outputId": "b88bb826-8d8d-444d-c08b-162eeba66afa"
      },
      "outputs": [
        {
          "name": "stdout",
          "text": "MAE: 15147.473592679795\n",
          "output_type": "stream"
        }
      ],
      "execution_count": null
    },
    {
      "cell_type": "code",
      "source": [
        "# Lines below will give you a hint or solution code\n",
        "#step_1.a.hint()\n",
        "#step_1.a.solution()"
      ],
      "metadata": {
        "trusted": true,
        "execution": {
          "iopub.status.busy": "2025-06-24T17:44:08.061893Z",
          "iopub.execute_input": "2025-06-24T17:44:08.062248Z",
          "iopub.status.idle": "2025-06-24T17:44:08.066638Z",
          "shell.execute_reply.started": "2025-06-24T17:44:08.062219Z",
          "shell.execute_reply": "2025-06-24T17:44:08.065454Z"
        },
        "id": "UBMqIChZFLiK"
      },
      "outputs": [],
      "execution_count": null
    },
    {
      "cell_type": "code",
      "source": [
        "\n",
        "\n",
        "# Preprocessing of validation data, get predictions\n",
        "preds = pipe.predict(X_valid)\n",
        "\n",
        "# Evaluate the model\n",
        "score = mean_absolute_error(y_valid, preds)\n",
        "print('MAE:', score)\n",
        "\n",
        "# Check your answer\n",
        "# step_1.b.check()"
      ],
      "metadata": {
        "trusted": true,
        "execution": {
          "iopub.status.busy": "2025-06-25T17:05:46.479308Z",
          "iopub.execute_input": "2025-06-25T17:05:46.479629Z",
          "iopub.status.idle": "2025-06-25T17:05:46.503449Z",
          "shell.execute_reply.started": "2025-06-25T17:05:46.479606Z",
          "shell.execute_reply": "2025-06-25T17:05:46.501667Z"
        },
        "id": "CbJByWIqFLiK",
        "outputId": "88e3033e-b72c-443a-d82e-290ee34336d2"
      },
      "outputs": [
        {
          "name": "stdout",
          "text": "MAE: 15147.473592679795\n",
          "output_type": "stream"
        }
      ],
      "execution_count": null
    },
    {
      "cell_type": "code",
      "source": [
        "# Line below will give you a hint\n",
        "#step_1.b.hint()"
      ],
      "metadata": {
        "trusted": true,
        "execution": {
          "iopub.status.busy": "2025-06-24T17:44:10.630082Z",
          "iopub.execute_input": "2025-06-24T17:44:10.630428Z",
          "iopub.status.idle": "2025-06-24T17:44:10.634813Z",
          "shell.execute_reply.started": "2025-06-24T17:44:10.630397Z",
          "shell.execute_reply": "2025-06-24T17:44:10.63389Z"
        },
        "id": "CnEhZnQQFLiK"
      },
      "outputs": [],
      "execution_count": null
    },
    {
      "cell_type": "code",
      "source": [
        "# Preprocessing of test data, fit model\n",
        "preds_test = pipe.predict(X_test)\n",
        "\n",
        "# Check your answer\n",
        "step_2.check()"
      ],
      "metadata": {
        "trusted": true,
        "execution": {
          "iopub.status.busy": "2025-06-25T17:05:52.264477Z",
          "iopub.execute_input": "2025-06-25T17:05:52.264819Z",
          "iopub.status.idle": "2025-06-25T17:05:52.313252Z",
          "shell.execute_reply.started": "2025-06-25T17:05:52.264796Z",
          "shell.execute_reply": "2025-06-25T17:05:52.312426Z"
        },
        "id": "qNVLW7XwFLiK",
        "outputId": "c24ffac3-3177-44b0-a04c-22103c07ae81"
      },
      "outputs": [
        {
          "output_type": "display_data",
          "data": {
            "text/plain": "<IPython.core.display.Javascript object>",
            "application/javascript": "parent.postMessage({\"jupyterEvent\": \"custom.exercise_interaction\", \"data\": {\"outcomeType\": 1, \"valueTowardsCompletion\": 1.0, \"interactionType\": 1, \"questionType\": 2, \"questionId\": \"2_TestPreds\", \"learnToolsVersion\": \"0.3.5\", \"failureMessage\": \"\", \"exceptionClass\": \"\", \"trace\": \"\"}}, \"*\")"
          },
          "metadata": {}
        },
        {
          "output_type": "display_data",
          "data": {
            "text/plain": "Correct",
            "text/markdown": "<span style=\"color:#33cc33\">Correct</span>"
          },
          "metadata": {}
        }
      ],
      "execution_count": null
    },
    {
      "cell_type": "code",
      "source": [
        "# Lines below will give you a hint or solution code\n",
        "#step_2.hint()\n",
        "#step_2.solution()"
      ],
      "metadata": {
        "trusted": true,
        "execution": {
          "iopub.status.busy": "2025-06-24T17:44:10.712169Z",
          "iopub.execute_input": "2025-06-24T17:44:10.712501Z",
          "iopub.status.idle": "2025-06-24T17:44:10.716104Z",
          "shell.execute_reply.started": "2025-06-24T17:44:10.712474Z",
          "shell.execute_reply": "2025-06-24T17:44:10.71524Z"
        },
        "id": "rJGc36N-FLiK"
      },
      "outputs": [],
      "execution_count": null
    },
    {
      "cell_type": "markdown",
      "source": [
        "Run the next code cell without changes to save your results to a CSV file that can be submitted directly to the competition."
      ],
      "metadata": {
        "id": "ETk3aRRUFLiK"
      }
    },
    {
      "cell_type": "code",
      "source": [
        "# Save test predictions to file\n",
        "output = pd.DataFrame({'Id': X_test.index,\n",
        "                       'SalePrice': preds_test})\n",
        "output.to_csv('submission.csv', index=False)"
      ],
      "metadata": {
        "trusted": true,
        "execution": {
          "iopub.status.busy": "2025-06-25T17:06:07.631368Z",
          "iopub.execute_input": "2025-06-25T17:06:07.631775Z",
          "iopub.status.idle": "2025-06-25T17:06:07.647196Z",
          "shell.execute_reply.started": "2025-06-25T17:06:07.631751Z",
          "shell.execute_reply": "2025-06-25T17:06:07.646306Z"
        },
        "id": "rMvgPqxqFLiK"
      },
      "outputs": [],
      "execution_count": null
    }
  ]
}