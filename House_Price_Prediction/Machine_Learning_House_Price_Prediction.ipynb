{
  "metadata": {
    "kernelspec": {
      "display_name": "Python 3",
      "language": "python",
      "name": "python3"
    },
    "language_info": {
      "name": "python",
      "version": "3.11.11",
      "mimetype": "text/x-python",
      "codemirror_mode": {
        "name": "ipython",
        "version": 3
      },
      "pygments_lexer": "ipython3",
      "nbconvert_exporter": "python",
      "file_extension": ".py"
    },
    "kaggle": {
      "accelerator": "none",
      "dataSources": [
        {
          "sourceId": 10211,
          "databundleVersionId": 111096,
          "sourceType": "competition"
        }
      ],
      "isInternetEnabled": false,
      "language": "python",
      "sourceType": "notebook",
      "isGpuEnabled": false
    },
    "colab": {
      "name": " Machine Learning - House Price Prediction",
      "provenance": [],
      "include_colab_link": true
    }
  },
  "nbformat_minor": 0,
  "nbformat": 4,
  "cells": [
    {
      "cell_type": "markdown",
      "metadata": {
        "id": "view-in-github",
        "colab_type": "text"
      },
      "source": [
        "<a href=\"https://colab.research.google.com/github/Haadikp/DataScience-and-ML-projects/blob/main/House_Price_Prediction/Machine_Learning_House_Price_Prediction.ipynb\" target=\"_parent\"><img src=\"https://colab.research.google.com/assets/colab-badge.svg\" alt=\"Open In Colab\"/></a>"
      ]
    },
    {
      "source": [
        "# IMPORTANT: SOME KAGGLE DATA SOURCES ARE PRIVATE\n",
        "# RUN THIS CELL IN ORDER TO IMPORT YOUR KAGGLE DATA SOURCES.\n",
        "import kagglehub\n",
        "kagglehub.login()\n"
      ],
      "metadata": {
        "id": "thQ62g3GSPYZ"
      },
      "cell_type": "code",
      "outputs": [],
      "execution_count": null
    },
    {
      "source": [
        "# IMPORTANT: RUN THIS CELL IN ORDER TO IMPORT YOUR KAGGLE DATA SOURCES,\n",
        "# THEN FEEL FREE TO DELETE THIS CELL.\n",
        "# NOTE: THIS NOTEBOOK ENVIRONMENT DIFFERS FROM KAGGLE'S PYTHON\n",
        "# ENVIRONMENT SO THERE MAY BE MISSING LIBRARIES USED BY YOUR\n",
        "# NOTEBOOK.\n",
        "\n",
        "home_data_for_ml_course_path = kagglehub.competition_download('home-data-for-ml-course')\n",
        "\n",
        "print('Data source import complete.')\n"
      ],
      "metadata": {
        "id": "UowZFZftSPYe"
      },
      "cell_type": "code",
      "outputs": [],
      "execution_count": null
    },
    {
      "cell_type": "markdown",
      "source": [
        "**This notebook is an exercise in the [Introduction to Machine Learning](https://www.kaggle.com/learn/intro-to-machine-learning) course.  You can reference the tutorial at [this link](https://www.kaggle.com/alexisbcook/machine-learning-competitions).**\n",
        "\n",
        "---\n"
      ],
      "metadata": {
        "id": "z8d9-cvYSPYf"
      }
    },
    {
      "cell_type": "markdown",
      "source": [
        "# Introduction\n",
        "\n",
        "In this exercise, you will create and submit predictions for a Kaggle competition. You can then improve your model (e.g. by adding features) to apply what you've learned and move up the leaderboard.\n",
        "\n",
        "Begin by running the code cell below to set up code checking and the filepaths for the dataset."
      ],
      "metadata": {
        "id": "v2A8HucISPYh"
      }
    },
    {
      "cell_type": "code",
      "source": [
        "# Set up code checking\n",
        "from learntools.core import binder\n",
        "binder.bind(globals())\n",
        "from learntools.machine_learning.ex7 import *\n",
        "\n",
        "# Set up filepaths\n",
        "import os\n",
        "if not os.path.exists(\"../input/train.csv\"):\n",
        "    os.symlink(\"../input/home-data-for-ml-course/train.csv\", \"../input/train.csv\")\n",
        "    os.symlink(\"../input/home-data-for-ml-course/test.csv\", \"../input/test.csv\")"
      ],
      "metadata": {
        "trusted": true,
        "execution": {
          "iopub.status.busy": "2025-06-17T09:58:25.013686Z",
          "iopub.execute_input": "2025-06-17T09:58:25.014312Z",
          "iopub.status.idle": "2025-06-17T09:58:25.396828Z",
          "shell.execute_reply.started": "2025-06-17T09:58:25.014281Z",
          "shell.execute_reply": "2025-06-17T09:58:25.39588Z"
        },
        "id": "_c9zLk0vSPYi"
      },
      "outputs": [],
      "execution_count": null
    },
    {
      "cell_type": "markdown",
      "source": [
        "Here's some of the code you've written so far. Start by running it again."
      ],
      "metadata": {
        "id": "lq0s3rVfSPYj"
      }
    },
    {
      "cell_type": "code",
      "source": [
        "# Import helpful libraries\n",
        "import pandas as pd\n",
        "from sklearn.ensemble import RandomForestRegressor\n",
        "from sklearn.metrics import mean_absolute_error\n",
        "from sklearn.model_selection import train_test_split\n",
        "\n",
        "# Load the data, and separate the target\n",
        "iowa_file_path = '../input/train.csv'\n",
        "home_data = pd.read_csv(iowa_file_path)\n",
        "y = home_data.SalePrice\n",
        "\n",
        "# Create X (After completing the exercise, you can return to modify this line!)\n",
        "features = ['LotArea', 'YearBuilt', '1stFlrSF', '2ndFlrSF', 'FullBath', 'BedroomAbvGr', 'TotRmsAbvGrd']\n",
        "\n",
        "# Select columns corresponding to features, and preview the data\n",
        "X = home_data[features]\n",
        "X.head()\n",
        "\n",
        "# Split into validation and training data\n",
        "train_X, val_X, train_y, val_y = train_test_split(X, y, random_state=1)\n",
        "\n",
        "# Define a random forest model\n",
        "rf_model = RandomForestRegressor(random_state=1)\n",
        "rf_model.fit(train_X, train_y)\n",
        "rf_val_predictions = rf_model.predict(val_X)\n",
        "rf_val_mae = mean_absolute_error(rf_val_predictions, val_y)\n",
        "\n",
        "print(\"Validation MAE for Random Forest Model: {:,.0f}\".format(rf_val_mae))"
      ],
      "metadata": {
        "trusted": true,
        "execution": {
          "iopub.status.busy": "2025-06-17T09:58:33.792605Z",
          "iopub.execute_input": "2025-06-17T09:58:33.793509Z",
          "iopub.status.idle": "2025-06-17T09:58:35.420828Z",
          "shell.execute_reply.started": "2025-06-17T09:58:33.793479Z",
          "shell.execute_reply": "2025-06-17T09:58:35.419984Z"
        },
        "id": "18aoocBtSPYk"
      },
      "outputs": [],
      "execution_count": null
    },
    {
      "cell_type": "markdown",
      "source": [
        "# Train a model for the competition\n",
        "\n",
        "The code cell above trains a Random Forest model on **`train_X`** and **`train_y`**.  \n",
        "\n",
        "Use the code cell below to build a Random Forest model and train it on all of **`X`** and **`y`**."
      ],
      "metadata": {
        "id": "-yQiIAiuSPYl"
      }
    },
    {
      "cell_type": "code",
      "source": [
        "# To improve accuracy, create a new Random Forest model which you will train on all training data\n",
        "rf_model_on_full_data = RandomForestRegressor(random_state=1)\n",
        "rf_model_on_full_data.fit(X,y)\n",
        "\n",
        "predicted_y = rf_model_on_full_data.predict(X)\n",
        "print(predicted_y[:5])\n",
        "print(y.head())\n",
        "rf_full_data_val_mae = mean_absolute_error(y,predicted_y )\n",
        "print(f\"MAE for all data model = {rf_full_data_val_mae}\")\n",
        "# fit rf_model_on_full_data on all data from the training data\n",
        "____"
      ],
      "metadata": {
        "trusted": true,
        "execution": {
          "iopub.status.busy": "2025-06-17T10:02:50.745818Z",
          "iopub.execute_input": "2025-06-17T10:02:50.746168Z",
          "iopub.status.idle": "2025-06-17T10:02:51.323804Z",
          "shell.execute_reply.started": "2025-06-17T10:02:50.746141Z",
          "shell.execute_reply": "2025-06-17T10:02:51.32314Z"
        },
        "id": "FIuQpGHLSPYm"
      },
      "outputs": [],
      "execution_count": null
    },
    {
      "cell_type": "markdown",
      "source": [
        "Now, read the file of \"test\" data, and apply your model to make predictions."
      ],
      "metadata": {
        "id": "WE-GYGCqSPYm"
      }
    },
    {
      "cell_type": "code",
      "source": [
        "# path to file you will use for predictions\n",
        "test_data_path = '../input/test.csv'\n",
        "\n",
        "# read test data file using pandas\n",
        "test_data = pd.read_csv(test_data_path)\n",
        "\n",
        "# create test_X which comes from test_data but includes only the columns you used for prediction.\n",
        "# The list of columns is stored in a variable called features\n",
        "test_X = test_data[features]\n",
        "\n",
        "# make predictions which we will submit.\n",
        "test_preds = rf_model_on_full_data.predict(test_X)"
      ],
      "metadata": {
        "trusted": true,
        "execution": {
          "iopub.status.busy": "2025-06-17T10:04:15.140926Z",
          "iopub.execute_input": "2025-06-17T10:04:15.141204Z",
          "iopub.status.idle": "2025-06-17T10:04:15.198533Z",
          "shell.execute_reply.started": "2025-06-17T10:04:15.141184Z",
          "shell.execute_reply": "2025-06-17T10:04:15.197809Z"
        },
        "id": "B9Au0RktSPYn"
      },
      "outputs": [],
      "execution_count": null
    },
    {
      "cell_type": "markdown",
      "source": [
        "Before submitting, run a check to make sure your `test_preds` have the right format."
      ],
      "metadata": {
        "id": "ZjBVjqZ8SPYn"
      }
    },
    {
      "cell_type": "code",
      "source": [
        "# Check your answer (To get credit for completing the exercise, you must get a \"Correct\" result!)\n",
        "step_1.check()\n",
        "# step_1.solution()"
      ],
      "metadata": {
        "trusted": true,
        "execution": {
          "iopub.status.busy": "2025-06-17T10:04:24.999309Z",
          "iopub.execute_input": "2025-06-17T10:04:24.999639Z",
          "iopub.status.idle": "2025-06-17T10:04:25.006701Z",
          "shell.execute_reply.started": "2025-06-17T10:04:24.999614Z",
          "shell.execute_reply": "2025-06-17T10:04:25.005926Z"
        },
        "id": "Aa4FyaD9SPYo"
      },
      "outputs": [],
      "execution_count": null
    },
    {
      "cell_type": "markdown",
      "source": [
        "# Generate a submission\n",
        "\n",
        "Run the code cell below to generate a CSV file with your predictions that you can use to submit to the competition."
      ],
      "metadata": {
        "id": "HBnegdOuSPYo"
      }
    },
    {
      "cell_type": "code",
      "source": [
        "# Run the code to save predictions in the format used for competition scoring\n",
        "\n",
        "output = pd.DataFrame({'Id': test_data.Id,\n",
        "                       'SalePrice': test_preds})\n",
        "output.to_csv('submission.csv', index=False)\n"
      ],
      "metadata": {
        "trusted": true,
        "execution": {
          "iopub.status.busy": "2025-06-17T10:05:00.796242Z",
          "iopub.execute_input": "2025-06-17T10:05:00.796502Z",
          "iopub.status.idle": "2025-06-17T10:05:00.805377Z",
          "shell.execute_reply.started": "2025-06-17T10:05:00.796483Z",
          "shell.execute_reply": "2025-06-17T10:05:00.804527Z"
        },
        "id": "iIUhi27jSPYo"
      },
      "outputs": [],
      "execution_count": null
    },
    {
      "cell_type": "markdown",
      "source": [
        "---\n",
        "\n",
        "\n",
        "\n",
        "\n",
        "*Have questions or comments? Visit the [course discussion forum](https://www.kaggle.com/learn/intro-to-machine-learning/discussion) to chat with other learners.*"
      ],
      "metadata": {
        "id": "Zyf1xAwdSPYp"
      }
    }
  ]
}