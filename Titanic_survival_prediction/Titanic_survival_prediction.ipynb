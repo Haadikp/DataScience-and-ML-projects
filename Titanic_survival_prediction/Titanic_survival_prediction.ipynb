{
  "metadata": {
    "kernelspec": {
      "language": "python",
      "display_name": "Python 3",
      "name": "python3"
    },
    "language_info": {
      "name": "python",
      "version": "3.11.11",
      "mimetype": "text/x-python",
      "codemirror_mode": {
        "name": "ipython",
        "version": 3
      },
      "pygments_lexer": "ipython3",
      "nbconvert_exporter": "python",
      "file_extension": ".py"
    },
    "kaggle": {
      "accelerator": "none",
      "dataSources": [
        {
          "sourceId": 3136,
          "databundleVersionId": 26502,
          "sourceType": "competition"
        }
      ],
      "dockerImageVersionId": 31040,
      "isInternetEnabled": true,
      "language": "python",
      "sourceType": "notebook",
      "isGpuEnabled": false
    },
    "colab": {
      "name": "Titanic survival prediction",
      "provenance": [],
      "include_colab_link": true
    }
  },
  "nbformat_minor": 0,
  "nbformat": 4,
  "cells": [
    {
      "cell_type": "markdown",
      "metadata": {
        "id": "view-in-github",
        "colab_type": "text"
      },
      "source": [
        "<a href=\"https://colab.research.google.com/github/Haadikp/DataScience-and-ML-projects/blob/main/Titanic_survival_prediction/Titanic_survival_prediction.ipynb\" target=\"_parent\"><img src=\"https://colab.research.google.com/assets/colab-badge.svg\" alt=\"Open In Colab\"/></a>"
      ]
    },
    {
      "source": [
        "# IMPORTANT: SOME KAGGLE DATA SOURCES ARE PRIVATE\n",
        "# RUN THIS CELL IN ORDER TO IMPORT YOUR KAGGLE DATA SOURCES.\n",
        "import kagglehub\n",
        "kagglehub.login()\n"
      ],
      "metadata": {
        "id": "oS5STRxD8PHM"
      },
      "cell_type": "code",
      "outputs": [],
      "execution_count": null
    },
    {
      "source": [
        "# IMPORTANT: RUN THIS CELL IN ORDER TO IMPORT YOUR KAGGLE DATA SOURCES,\n",
        "# THEN FEEL FREE TO DELETE THIS CELL.\n",
        "# NOTE: THIS NOTEBOOK ENVIRONMENT DIFFERS FROM KAGGLE'S PYTHON\n",
        "# ENVIRONMENT SO THERE MAY BE MISSING LIBRARIES USED BY YOUR\n",
        "# NOTEBOOK.\n",
        "\n",
        "titanic_path = kagglehub.competition_download('titanic')\n",
        "\n",
        "print('Data source import complete.')\n"
      ],
      "metadata": {
        "id": "Cca149bt8PHO"
      },
      "cell_type": "code",
      "outputs": [],
      "execution_count": null
    },
    {
      "cell_type": "code",
      "source": [
        "import pandas as pd"
      ],
      "metadata": {
        "_uuid": "8f2839f25d086af736a60e9eeb907d3b93b6e0e5",
        "_cell_guid": "b1076dfc-b9ad-4769-8c92-a6c4dae69d19",
        "trusted": true,
        "execution": {
          "iopub.status.busy": "2025-07-03T15:28:25.68952Z",
          "iopub.execute_input": "2025-07-03T15:28:25.689917Z",
          "iopub.status.idle": "2025-07-03T15:28:25.694886Z",
          "shell.execute_reply.started": "2025-07-03T15:28:25.689888Z",
          "shell.execute_reply": "2025-07-03T15:28:25.693859Z"
        },
        "id": "ev4OCkN_8PHP"
      },
      "outputs": [],
      "execution_count": null
    },
    {
      "cell_type": "code",
      "source": [
        "import os\n",
        "\n",
        "os.listdir(\"/kaggle/input/titanic/\")\n"
      ],
      "metadata": {
        "trusted": true,
        "execution": {
          "iopub.status.busy": "2025-07-03T15:28:25.696525Z",
          "iopub.execute_input": "2025-07-03T15:28:25.696852Z",
          "iopub.status.idle": "2025-07-03T15:28:25.719775Z",
          "shell.execute_reply.started": "2025-07-03T15:28:25.696821Z",
          "shell.execute_reply": "2025-07-03T15:28:25.718839Z"
        },
        "id": "ZL1oLGcM8PHP",
        "outputId": "50bca993-9b2e-4eae-89ce-32ce5bb8b770"
      },
      "outputs": [
        {
          "execution_count": 199,
          "output_type": "execute_result",
          "data": {
            "text/plain": "['train.csv', 'test.csv', 'gender_submission.csv']"
          },
          "metadata": {}
        }
      ],
      "execution_count": null
    },
    {
      "cell_type": "code",
      "source": [
        "train = pd.read_csv(\"/kaggle/input/titanic/train.csv\")\n",
        "test = pd.read_csv(\"/kaggle/input/titanic/test.csv\")\n",
        "\n"
      ],
      "metadata": {
        "trusted": true,
        "execution": {
          "iopub.status.busy": "2025-07-03T15:28:25.72072Z",
          "iopub.execute_input": "2025-07-03T15:28:25.721037Z",
          "iopub.status.idle": "2025-07-03T15:28:25.744884Z",
          "shell.execute_reply.started": "2025-07-03T15:28:25.721015Z",
          "shell.execute_reply": "2025-07-03T15:28:25.74404Z"
        },
        "id": "8nRou-1h8PHQ"
      },
      "outputs": [],
      "execution_count": null
    },
    {
      "cell_type": "code",
      "source": [
        "train.head()"
      ],
      "metadata": {
        "trusted": true,
        "execution": {
          "iopub.status.busy": "2025-07-03T15:28:25.746712Z",
          "iopub.execute_input": "2025-07-03T15:28:25.74711Z",
          "iopub.status.idle": "2025-07-03T15:28:25.76104Z",
          "shell.execute_reply.started": "2025-07-03T15:28:25.747065Z",
          "shell.execute_reply": "2025-07-03T15:28:25.760142Z"
        },
        "id": "BFRGD2TW8PHQ",
        "outputId": "0b7eb3cf-3858-49e9-e725-1beb4ef9a10a"
      },
      "outputs": [
        {
          "execution_count": 201,
          "output_type": "execute_result",
          "data": {
            "text/plain": "   PassengerId  Survived  Pclass  \\\n0            1         0       3   \n1            2         1       1   \n2            3         1       3   \n3            4         1       1   \n4            5         0       3   \n\n                                                Name     Sex   Age  SibSp  \\\n0                            Braund, Mr. Owen Harris    male  22.0      1   \n1  Cumings, Mrs. John Bradley (Florence Briggs Th...  female  38.0      1   \n2                             Heikkinen, Miss. Laina  female  26.0      0   \n3       Futrelle, Mrs. Jacques Heath (Lily May Peel)  female  35.0      1   \n4                           Allen, Mr. William Henry    male  35.0      0   \n\n   Parch            Ticket     Fare Cabin Embarked  \n0      0         A/5 21171   7.2500   NaN        S  \n1      0          PC 17599  71.2833   C85        C  \n2      0  STON/O2. 3101282   7.9250   NaN        S  \n3      0            113803  53.1000  C123        S  \n4      0            373450   8.0500   NaN        S  ",
            "text/html": "<div>\n<style scoped>\n    .dataframe tbody tr th:only-of-type {\n        vertical-align: middle;\n    }\n\n    .dataframe tbody tr th {\n        vertical-align: top;\n    }\n\n    .dataframe thead th {\n        text-align: right;\n    }\n</style>\n<table border=\"1\" class=\"dataframe\">\n  <thead>\n    <tr style=\"text-align: right;\">\n      <th></th>\n      <th>PassengerId</th>\n      <th>Survived</th>\n      <th>Pclass</th>\n      <th>Name</th>\n      <th>Sex</th>\n      <th>Age</th>\n      <th>SibSp</th>\n      <th>Parch</th>\n      <th>Ticket</th>\n      <th>Fare</th>\n      <th>Cabin</th>\n      <th>Embarked</th>\n    </tr>\n  </thead>\n  <tbody>\n    <tr>\n      <th>0</th>\n      <td>1</td>\n      <td>0</td>\n      <td>3</td>\n      <td>Braund, Mr. Owen Harris</td>\n      <td>male</td>\n      <td>22.0</td>\n      <td>1</td>\n      <td>0</td>\n      <td>A/5 21171</td>\n      <td>7.2500</td>\n      <td>NaN</td>\n      <td>S</td>\n    </tr>\n    <tr>\n      <th>1</th>\n      <td>2</td>\n      <td>1</td>\n      <td>1</td>\n      <td>Cumings, Mrs. John Bradley (Florence Briggs Th...</td>\n      <td>female</td>\n      <td>38.0</td>\n      <td>1</td>\n      <td>0</td>\n      <td>PC 17599</td>\n      <td>71.2833</td>\n      <td>C85</td>\n      <td>C</td>\n    </tr>\n    <tr>\n      <th>2</th>\n      <td>3</td>\n      <td>1</td>\n      <td>3</td>\n      <td>Heikkinen, Miss. Laina</td>\n      <td>female</td>\n      <td>26.0</td>\n      <td>0</td>\n      <td>0</td>\n      <td>STON/O2. 3101282</td>\n      <td>7.9250</td>\n      <td>NaN</td>\n      <td>S</td>\n    </tr>\n    <tr>\n      <th>3</th>\n      <td>4</td>\n      <td>1</td>\n      <td>1</td>\n      <td>Futrelle, Mrs. Jacques Heath (Lily May Peel)</td>\n      <td>female</td>\n      <td>35.0</td>\n      <td>1</td>\n      <td>0</td>\n      <td>113803</td>\n      <td>53.1000</td>\n      <td>C123</td>\n      <td>S</td>\n    </tr>\n    <tr>\n      <th>4</th>\n      <td>5</td>\n      <td>0</td>\n      <td>3</td>\n      <td>Allen, Mr. William Henry</td>\n      <td>male</td>\n      <td>35.0</td>\n      <td>0</td>\n      <td>0</td>\n      <td>373450</td>\n      <td>8.0500</td>\n      <td>NaN</td>\n      <td>S</td>\n    </tr>\n  </tbody>\n</table>\n</div>"
          },
          "metadata": {}
        }
      ],
      "execution_count": null
    },
    {
      "cell_type": "code",
      "source": [
        "test.head()"
      ],
      "metadata": {
        "trusted": true,
        "execution": {
          "iopub.status.busy": "2025-07-03T15:28:25.761906Z",
          "iopub.execute_input": "2025-07-03T15:28:25.76215Z",
          "iopub.status.idle": "2025-07-03T15:28:25.786957Z",
          "shell.execute_reply.started": "2025-07-03T15:28:25.762131Z",
          "shell.execute_reply": "2025-07-03T15:28:25.785991Z"
        },
        "id": "ySkcaAKu8PHQ",
        "outputId": "db8bf060-aa9f-4984-cbd1-4036e482b142"
      },
      "outputs": [
        {
          "execution_count": 202,
          "output_type": "execute_result",
          "data": {
            "text/plain": "   PassengerId  Pclass                                          Name     Sex  \\\n0          892       3                              Kelly, Mr. James    male   \n1          893       3              Wilkes, Mrs. James (Ellen Needs)  female   \n2          894       2                     Myles, Mr. Thomas Francis    male   \n3          895       3                              Wirz, Mr. Albert    male   \n4          896       3  Hirvonen, Mrs. Alexander (Helga E Lindqvist)  female   \n\n    Age  SibSp  Parch   Ticket     Fare Cabin Embarked  \n0  34.5      0      0   330911   7.8292   NaN        Q  \n1  47.0      1      0   363272   7.0000   NaN        S  \n2  62.0      0      0   240276   9.6875   NaN        Q  \n3  27.0      0      0   315154   8.6625   NaN        S  \n4  22.0      1      1  3101298  12.2875   NaN        S  ",
            "text/html": "<div>\n<style scoped>\n    .dataframe tbody tr th:only-of-type {\n        vertical-align: middle;\n    }\n\n    .dataframe tbody tr th {\n        vertical-align: top;\n    }\n\n    .dataframe thead th {\n        text-align: right;\n    }\n</style>\n<table border=\"1\" class=\"dataframe\">\n  <thead>\n    <tr style=\"text-align: right;\">\n      <th></th>\n      <th>PassengerId</th>\n      <th>Pclass</th>\n      <th>Name</th>\n      <th>Sex</th>\n      <th>Age</th>\n      <th>SibSp</th>\n      <th>Parch</th>\n      <th>Ticket</th>\n      <th>Fare</th>\n      <th>Cabin</th>\n      <th>Embarked</th>\n    </tr>\n  </thead>\n  <tbody>\n    <tr>\n      <th>0</th>\n      <td>892</td>\n      <td>3</td>\n      <td>Kelly, Mr. James</td>\n      <td>male</td>\n      <td>34.5</td>\n      <td>0</td>\n      <td>0</td>\n      <td>330911</td>\n      <td>7.8292</td>\n      <td>NaN</td>\n      <td>Q</td>\n    </tr>\n    <tr>\n      <th>1</th>\n      <td>893</td>\n      <td>3</td>\n      <td>Wilkes, Mrs. James (Ellen Needs)</td>\n      <td>female</td>\n      <td>47.0</td>\n      <td>1</td>\n      <td>0</td>\n      <td>363272</td>\n      <td>7.0000</td>\n      <td>NaN</td>\n      <td>S</td>\n    </tr>\n    <tr>\n      <th>2</th>\n      <td>894</td>\n      <td>2</td>\n      <td>Myles, Mr. Thomas Francis</td>\n      <td>male</td>\n      <td>62.0</td>\n      <td>0</td>\n      <td>0</td>\n      <td>240276</td>\n      <td>9.6875</td>\n      <td>NaN</td>\n      <td>Q</td>\n    </tr>\n    <tr>\n      <th>3</th>\n      <td>895</td>\n      <td>3</td>\n      <td>Wirz, Mr. Albert</td>\n      <td>male</td>\n      <td>27.0</td>\n      <td>0</td>\n      <td>0</td>\n      <td>315154</td>\n      <td>8.6625</td>\n      <td>NaN</td>\n      <td>S</td>\n    </tr>\n    <tr>\n      <th>4</th>\n      <td>896</td>\n      <td>3</td>\n      <td>Hirvonen, Mrs. Alexander (Helga E Lindqvist)</td>\n      <td>female</td>\n      <td>22.0</td>\n      <td>1</td>\n      <td>1</td>\n      <td>3101298</td>\n      <td>12.2875</td>\n      <td>NaN</td>\n      <td>S</td>\n    </tr>\n  </tbody>\n</table>\n</div>"
          },
          "metadata": {}
        }
      ],
      "execution_count": null
    },
    {
      "cell_type": "code",
      "source": [
        "train.info()"
      ],
      "metadata": {
        "trusted": true,
        "execution": {
          "iopub.status.busy": "2025-07-03T15:28:25.787954Z",
          "iopub.execute_input": "2025-07-03T15:28:25.788216Z",
          "iopub.status.idle": "2025-07-03T15:28:25.810033Z",
          "shell.execute_reply.started": "2025-07-03T15:28:25.788196Z",
          "shell.execute_reply": "2025-07-03T15:28:25.808971Z"
        },
        "id": "IhyIQOPd8PHQ",
        "outputId": "b85f0573-19e9-4b84-953f-beb68210fea7"
      },
      "outputs": [
        {
          "name": "stdout",
          "text": "<class 'pandas.core.frame.DataFrame'>\nRangeIndex: 891 entries, 0 to 890\nData columns (total 12 columns):\n #   Column       Non-Null Count  Dtype  \n---  ------       --------------  -----  \n 0   PassengerId  891 non-null    int64  \n 1   Survived     891 non-null    int64  \n 2   Pclass       891 non-null    int64  \n 3   Name         891 non-null    object \n 4   Sex          891 non-null    object \n 5   Age          714 non-null    float64\n 6   SibSp        891 non-null    int64  \n 7   Parch        891 non-null    int64  \n 8   Ticket       891 non-null    object \n 9   Fare         891 non-null    float64\n 10  Cabin        204 non-null    object \n 11  Embarked     889 non-null    object \ndtypes: float64(2), int64(5), object(5)\nmemory usage: 83.7+ KB\n",
          "output_type": "stream"
        }
      ],
      "execution_count": null
    },
    {
      "cell_type": "code",
      "source": [
        "train.describe()"
      ],
      "metadata": {
        "trusted": true,
        "execution": {
          "iopub.status.busy": "2025-07-03T15:28:25.810958Z",
          "iopub.execute_input": "2025-07-03T15:28:25.811244Z",
          "iopub.status.idle": "2025-07-03T15:28:25.847634Z",
          "shell.execute_reply.started": "2025-07-03T15:28:25.811221Z",
          "shell.execute_reply": "2025-07-03T15:28:25.846635Z"
        },
        "id": "Gpc-1qn48PHR",
        "outputId": "e2f33d7b-22a8-4926-96be-1f0d03cd34e1"
      },
      "outputs": [
        {
          "execution_count": 204,
          "output_type": "execute_result",
          "data": {
            "text/plain": "       PassengerId    Survived      Pclass         Age       SibSp  \\\ncount   891.000000  891.000000  891.000000  714.000000  891.000000   \nmean    446.000000    0.383838    2.308642   29.699118    0.523008   \nstd     257.353842    0.486592    0.836071   14.526497    1.102743   \nmin       1.000000    0.000000    1.000000    0.420000    0.000000   \n25%     223.500000    0.000000    2.000000   20.125000    0.000000   \n50%     446.000000    0.000000    3.000000   28.000000    0.000000   \n75%     668.500000    1.000000    3.000000   38.000000    1.000000   \nmax     891.000000    1.000000    3.000000   80.000000    8.000000   \n\n            Parch        Fare  \ncount  891.000000  891.000000  \nmean     0.381594   32.204208  \nstd      0.806057   49.693429  \nmin      0.000000    0.000000  \n25%      0.000000    7.910400  \n50%      0.000000   14.454200  \n75%      0.000000   31.000000  \nmax      6.000000  512.329200  ",
            "text/html": "<div>\n<style scoped>\n    .dataframe tbody tr th:only-of-type {\n        vertical-align: middle;\n    }\n\n    .dataframe tbody tr th {\n        vertical-align: top;\n    }\n\n    .dataframe thead th {\n        text-align: right;\n    }\n</style>\n<table border=\"1\" class=\"dataframe\">\n  <thead>\n    <tr style=\"text-align: right;\">\n      <th></th>\n      <th>PassengerId</th>\n      <th>Survived</th>\n      <th>Pclass</th>\n      <th>Age</th>\n      <th>SibSp</th>\n      <th>Parch</th>\n      <th>Fare</th>\n    </tr>\n  </thead>\n  <tbody>\n    <tr>\n      <th>count</th>\n      <td>891.000000</td>\n      <td>891.000000</td>\n      <td>891.000000</td>\n      <td>714.000000</td>\n      <td>891.000000</td>\n      <td>891.000000</td>\n      <td>891.000000</td>\n    </tr>\n    <tr>\n      <th>mean</th>\n      <td>446.000000</td>\n      <td>0.383838</td>\n      <td>2.308642</td>\n      <td>29.699118</td>\n      <td>0.523008</td>\n      <td>0.381594</td>\n      <td>32.204208</td>\n    </tr>\n    <tr>\n      <th>std</th>\n      <td>257.353842</td>\n      <td>0.486592</td>\n      <td>0.836071</td>\n      <td>14.526497</td>\n      <td>1.102743</td>\n      <td>0.806057</td>\n      <td>49.693429</td>\n    </tr>\n    <tr>\n      <th>min</th>\n      <td>1.000000</td>\n      <td>0.000000</td>\n      <td>1.000000</td>\n      <td>0.420000</td>\n      <td>0.000000</td>\n      <td>0.000000</td>\n      <td>0.000000</td>\n    </tr>\n    <tr>\n      <th>25%</th>\n      <td>223.500000</td>\n      <td>0.000000</td>\n      <td>2.000000</td>\n      <td>20.125000</td>\n      <td>0.000000</td>\n      <td>0.000000</td>\n      <td>7.910400</td>\n    </tr>\n    <tr>\n      <th>50%</th>\n      <td>446.000000</td>\n      <td>0.000000</td>\n      <td>3.000000</td>\n      <td>28.000000</td>\n      <td>0.000000</td>\n      <td>0.000000</td>\n      <td>14.454200</td>\n    </tr>\n    <tr>\n      <th>75%</th>\n      <td>668.500000</td>\n      <td>1.000000</td>\n      <td>3.000000</td>\n      <td>38.000000</td>\n      <td>1.000000</td>\n      <td>0.000000</td>\n      <td>31.000000</td>\n    </tr>\n    <tr>\n      <th>max</th>\n      <td>891.000000</td>\n      <td>1.000000</td>\n      <td>3.000000</td>\n      <td>80.000000</td>\n      <td>8.000000</td>\n      <td>6.000000</td>\n      <td>512.329200</td>\n    </tr>\n  </tbody>\n</table>\n</div>"
          },
          "metadata": {}
        }
      ],
      "execution_count": null
    },
    {
      "cell_type": "code",
      "source": [
        "y_train = train['Survived']\n",
        "x_train = train[['Pclass','Sex','Age','SibSp','Parch','Fare']]\n"
      ],
      "metadata": {
        "trusted": true,
        "execution": {
          "iopub.status.busy": "2025-07-03T15:28:25.848702Z",
          "iopub.execute_input": "2025-07-03T15:28:25.849034Z",
          "iopub.status.idle": "2025-07-03T15:28:25.854953Z",
          "shell.execute_reply.started": "2025-07-03T15:28:25.849009Z",
          "shell.execute_reply": "2025-07-03T15:28:25.853934Z"
        },
        "id": "wNZt33Be8PHR"
      },
      "outputs": [],
      "execution_count": null
    },
    {
      "cell_type": "code",
      "source": [
        "\n",
        "x_test = test[['Pclass','Sex','Age','SibSp','Parch','Fare']]"
      ],
      "metadata": {
        "trusted": true,
        "execution": {
          "iopub.status.busy": "2025-07-03T15:28:25.85599Z",
          "iopub.execute_input": "2025-07-03T15:28:25.856307Z",
          "iopub.status.idle": "2025-07-03T15:28:25.875269Z",
          "shell.execute_reply.started": "2025-07-03T15:28:25.856283Z",
          "shell.execute_reply": "2025-07-03T15:28:25.874358Z"
        },
        "id": "l_VK5muP8PHR"
      },
      "outputs": [],
      "execution_count": null
    },
    {
      "cell_type": "code",
      "source": [
        "col = (x_train.dtypes==\"object\")\n",
        "obj_cols = list(col[col].index)\n",
        "print(f\"Columns with categorical data = {obj_cols}\")"
      ],
      "metadata": {
        "trusted": true,
        "execution": {
          "iopub.status.busy": "2025-07-03T15:28:25.878225Z",
          "iopub.execute_input": "2025-07-03T15:28:25.878548Z",
          "iopub.status.idle": "2025-07-03T15:28:25.89445Z",
          "shell.execute_reply.started": "2025-07-03T15:28:25.878523Z",
          "shell.execute_reply": "2025-07-03T15:28:25.893406Z"
        },
        "id": "SasYeBfh8PHR",
        "outputId": "04ef04ba-504b-4fec-aeef-2b211f7fdbd8"
      },
      "outputs": [
        {
          "name": "stdout",
          "text": "Columns with categorical data = ['Sex']\n",
          "output_type": "stream"
        }
      ],
      "execution_count": null
    },
    {
      "cell_type": "code",
      "source": [
        "from sklearn.preprocessing import OrdinalEncoder\n",
        "\n",
        "num_x_tr = x_train.copy()\n",
        "num_x_tst = x_test.copy()\n",
        "\n",
        "ord_enc = OrdinalEncoder(handle_unknown='use_encoded_value', unknown_value=-1)\n",
        "\n",
        "num_x_tr[obj_cols] =  ord_enc.fit_transform(x_train[obj_cols])\n",
        "num_x_tst[obj_cols] =  ord_enc.transform(x_test[obj_cols])\n",
        "\n",
        "print(num_x_tr)"
      ],
      "metadata": {
        "trusted": true,
        "execution": {
          "iopub.status.busy": "2025-07-03T15:28:25.895572Z",
          "iopub.execute_input": "2025-07-03T15:28:25.895998Z",
          "iopub.status.idle": "2025-07-03T15:28:25.922544Z",
          "shell.execute_reply.started": "2025-07-03T15:28:25.895959Z",
          "shell.execute_reply": "2025-07-03T15:28:25.921562Z"
        },
        "id": "21oXLa948PHR",
        "outputId": "f92967d1-0f10-4c2e-dd7e-a3daa85bfc04"
      },
      "outputs": [
        {
          "name": "stdout",
          "text": "     Pclass  Sex   Age  SibSp  Parch     Fare\n0         3  1.0  22.0      1      0   7.2500\n1         1  0.0  38.0      1      0  71.2833\n2         3  0.0  26.0      0      0   7.9250\n3         1  0.0  35.0      1      0  53.1000\n4         3  1.0  35.0      0      0   8.0500\n..      ...  ...   ...    ...    ...      ...\n886       2  1.0  27.0      0      0  13.0000\n887       1  0.0  19.0      0      0  30.0000\n888       3  0.0   NaN      1      2  23.4500\n889       1  1.0  26.0      0      0  30.0000\n890       3  1.0  32.0      0      0   7.7500\n\n[891 rows x 6 columns]\n",
          "output_type": "stream"
        },
        {
          "name": "stderr",
          "text": "/usr/local/lib/python3.11/dist-packages/pandas/io/formats/format.py:1458: RuntimeWarning: invalid value encountered in greater\n  has_large_values = (abs_vals > 1e6).any()\n/usr/local/lib/python3.11/dist-packages/pandas/io/formats/format.py:1459: RuntimeWarning: invalid value encountered in less\n  has_small_values = ((abs_vals < 10 ** (-self.digits)) & (abs_vals > 0)).any()\n/usr/local/lib/python3.11/dist-packages/pandas/io/formats/format.py:1459: RuntimeWarning: invalid value encountered in greater\n  has_small_values = ((abs_vals < 10 ** (-self.digits)) & (abs_vals > 0)).any()\n",
          "output_type": "stream"
        }
      ],
      "execution_count": null
    },
    {
      "cell_type": "code",
      "source": [
        "num_x_tr['Sex']"
      ],
      "metadata": {
        "trusted": true,
        "execution": {
          "iopub.status.busy": "2025-07-03T15:28:25.923676Z",
          "iopub.execute_input": "2025-07-03T15:28:25.924105Z",
          "iopub.status.idle": "2025-07-03T15:28:25.944679Z",
          "shell.execute_reply.started": "2025-07-03T15:28:25.924075Z",
          "shell.execute_reply": "2025-07-03T15:28:25.943826Z"
        },
        "id": "nuAYs4OJ8PHR",
        "outputId": "5e1905ba-d5af-49d4-b8ef-994e5f1577a9"
      },
      "outputs": [
        {
          "execution_count": 209,
          "output_type": "execute_result",
          "data": {
            "text/plain": "0      1.0\n1      0.0\n2      0.0\n3      0.0\n4      1.0\n      ... \n886    1.0\n887    0.0\n888    0.0\n889    1.0\n890    1.0\nName: Sex, Length: 891, dtype: float64"
          },
          "metadata": {}
        }
      ],
      "execution_count": null
    },
    {
      "cell_type": "code",
      "source": [
        "num_x_tr.isnull().any()\n",
        "\n",
        "missing = [i for i in num_x_tr.columns if num_x_tr[i].isnull().any()]\n",
        "print(f\"Columns with missing values = {missing}\")"
      ],
      "metadata": {
        "trusted": true,
        "execution": {
          "iopub.status.busy": "2025-07-03T15:28:25.945701Z",
          "iopub.execute_input": "2025-07-03T15:28:25.946534Z",
          "iopub.status.idle": "2025-07-03T15:28:25.964382Z",
          "shell.execute_reply.started": "2025-07-03T15:28:25.946503Z",
          "shell.execute_reply": "2025-07-03T15:28:25.963551Z"
        },
        "id": "fDRKErFN8PHR",
        "outputId": "532a96b9-8323-4515-c50b-fea2eed4a3d6"
      },
      "outputs": [
        {
          "name": "stdout",
          "text": "Columns with missing values = ['Age']\n",
          "output_type": "stream"
        }
      ],
      "execution_count": null
    },
    {
      "cell_type": "code",
      "source": [
        "from sklearn.impute import SimpleImputer\n",
        "my_imputer = SimpleImputer(strategy='mean')\n",
        "imp_x_train = pd.DataFrame(my_imputer.fit_transform(num_x_tr))\n",
        "imp_x_test = pd.DataFrame(my_imputer.transform(num_x_tst))\n",
        "\n",
        "imp_x_train.columns = num_x_tr.columns\n",
        "imp_x_test.columns = num_x_tst.columns"
      ],
      "metadata": {
        "trusted": true,
        "execution": {
          "iopub.status.busy": "2025-07-03T15:28:25.965339Z",
          "iopub.execute_input": "2025-07-03T15:28:25.965658Z",
          "iopub.status.idle": "2025-07-03T15:28:25.986648Z",
          "shell.execute_reply.started": "2025-07-03T15:28:25.965634Z",
          "shell.execute_reply": "2025-07-03T15:28:25.985828Z"
        },
        "id": "0KBb0QmW8PHS"
      },
      "outputs": [],
      "execution_count": null
    },
    {
      "cell_type": "code",
      "source": [
        "print(imp_x_train)"
      ],
      "metadata": {
        "trusted": true,
        "execution": {
          "iopub.status.busy": "2025-07-03T15:28:25.987718Z",
          "iopub.execute_input": "2025-07-03T15:28:25.988056Z",
          "iopub.status.idle": "2025-07-03T15:28:25.99943Z",
          "shell.execute_reply.started": "2025-07-03T15:28:25.988027Z",
          "shell.execute_reply": "2025-07-03T15:28:25.998436Z"
        },
        "id": "ivngOGMh8PHS",
        "outputId": "1fe64a6f-c647-48b0-c831-1d5a4bf7c215"
      },
      "outputs": [
        {
          "name": "stdout",
          "text": "     Pclass  Sex        Age  SibSp  Parch     Fare\n0       3.0  1.0  22.000000    1.0    0.0   7.2500\n1       1.0  0.0  38.000000    1.0    0.0  71.2833\n2       3.0  0.0  26.000000    0.0    0.0   7.9250\n3       1.0  0.0  35.000000    1.0    0.0  53.1000\n4       3.0  1.0  35.000000    0.0    0.0   8.0500\n..      ...  ...        ...    ...    ...      ...\n886     2.0  1.0  27.000000    0.0    0.0  13.0000\n887     1.0  0.0  19.000000    0.0    0.0  30.0000\n888     3.0  0.0  29.699118    1.0    2.0  23.4500\n889     1.0  1.0  26.000000    0.0    0.0  30.0000\n890     3.0  1.0  32.000000    0.0    0.0   7.7500\n\n[891 rows x 6 columns]\n",
          "output_type": "stream"
        }
      ],
      "execution_count": null
    },
    {
      "cell_type": "code",
      "source": [
        "from sklearn.ensemble import RandomForestClassifier\n",
        "model = RandomForestClassifier(n_estimators=350,max_depth=7, random_state=1)\n",
        "model.fit(imp_x_train,y_train)"
      ],
      "metadata": {
        "trusted": true,
        "execution": {
          "iopub.status.busy": "2025-07-03T15:30:39.084679Z",
          "iopub.execute_input": "2025-07-03T15:30:39.085161Z",
          "iopub.status.idle": "2025-07-03T15:30:39.69874Z",
          "shell.execute_reply.started": "2025-07-03T15:30:39.08513Z",
          "shell.execute_reply": "2025-07-03T15:30:39.697958Z"
        },
        "id": "SIBZFe3c8PHS",
        "outputId": "36ebcd5a-0bf6-4276-d84e-f77359f0207e"
      },
      "outputs": [
        {
          "execution_count": 227,
          "output_type": "execute_result",
          "data": {
            "text/plain": "RandomForestClassifier(max_depth=7, n_estimators=350, random_state=1)",
            "text/html": "<style>#sk-container-id-24 {color: black;background-color: white;}#sk-container-id-24 pre{padding: 0;}#sk-container-id-24 div.sk-toggleable {background-color: white;}#sk-container-id-24 label.sk-toggleable__label {cursor: pointer;display: block;width: 100%;margin-bottom: 0;padding: 0.3em;box-sizing: border-box;text-align: center;}#sk-container-id-24 label.sk-toggleable__label-arrow:before {content: \"▸\";float: left;margin-right: 0.25em;color: #696969;}#sk-container-id-24 label.sk-toggleable__label-arrow:hover:before {color: black;}#sk-container-id-24 div.sk-estimator:hover label.sk-toggleable__label-arrow:before {color: black;}#sk-container-id-24 div.sk-toggleable__content {max-height: 0;max-width: 0;overflow: hidden;text-align: left;background-color: #f0f8ff;}#sk-container-id-24 div.sk-toggleable__content pre {margin: 0.2em;color: black;border-radius: 0.25em;background-color: #f0f8ff;}#sk-container-id-24 input.sk-toggleable__control:checked~div.sk-toggleable__content {max-height: 200px;max-width: 100%;overflow: auto;}#sk-container-id-24 input.sk-toggleable__control:checked~label.sk-toggleable__label-arrow:before {content: \"▾\";}#sk-container-id-24 div.sk-estimator input.sk-toggleable__control:checked~label.sk-toggleable__label {background-color: #d4ebff;}#sk-container-id-24 div.sk-label input.sk-toggleable__control:checked~label.sk-toggleable__label {background-color: #d4ebff;}#sk-container-id-24 input.sk-hidden--visually {border: 0;clip: rect(1px 1px 1px 1px);clip: rect(1px, 1px, 1px, 1px);height: 1px;margin: -1px;overflow: hidden;padding: 0;position: absolute;width: 1px;}#sk-container-id-24 div.sk-estimator {font-family: monospace;background-color: #f0f8ff;border: 1px dotted black;border-radius: 0.25em;box-sizing: border-box;margin-bottom: 0.5em;}#sk-container-id-24 div.sk-estimator:hover {background-color: #d4ebff;}#sk-container-id-24 div.sk-parallel-item::after {content: \"\";width: 100%;border-bottom: 1px solid gray;flex-grow: 1;}#sk-container-id-24 div.sk-label:hover label.sk-toggleable__label {background-color: #d4ebff;}#sk-container-id-24 div.sk-serial::before {content: \"\";position: absolute;border-left: 1px solid gray;box-sizing: border-box;top: 0;bottom: 0;left: 50%;z-index: 0;}#sk-container-id-24 div.sk-serial {display: flex;flex-direction: column;align-items: center;background-color: white;padding-right: 0.2em;padding-left: 0.2em;position: relative;}#sk-container-id-24 div.sk-item {position: relative;z-index: 1;}#sk-container-id-24 div.sk-parallel {display: flex;align-items: stretch;justify-content: center;background-color: white;position: relative;}#sk-container-id-24 div.sk-item::before, #sk-container-id-24 div.sk-parallel-item::before {content: \"\";position: absolute;border-left: 1px solid gray;box-sizing: border-box;top: 0;bottom: 0;left: 50%;z-index: -1;}#sk-container-id-24 div.sk-parallel-item {display: flex;flex-direction: column;z-index: 1;position: relative;background-color: white;}#sk-container-id-24 div.sk-parallel-item:first-child::after {align-self: flex-end;width: 50%;}#sk-container-id-24 div.sk-parallel-item:last-child::after {align-self: flex-start;width: 50%;}#sk-container-id-24 div.sk-parallel-item:only-child::after {width: 0;}#sk-container-id-24 div.sk-dashed-wrapped {border: 1px dashed gray;margin: 0 0.4em 0.5em 0.4em;box-sizing: border-box;padding-bottom: 0.4em;background-color: white;}#sk-container-id-24 div.sk-label label {font-family: monospace;font-weight: bold;display: inline-block;line-height: 1.2em;}#sk-container-id-24 div.sk-label-container {text-align: center;}#sk-container-id-24 div.sk-container {/* jupyter's `normalize.less` sets `[hidden] { display: none; }` but bootstrap.min.css set `[hidden] { display: none !important; }` so we also need the `!important` here to be able to override the default hidden behavior on the sphinx rendered scikit-learn.org. See: https://github.com/scikit-learn/scikit-learn/issues/21755 */display: inline-block !important;position: relative;}#sk-container-id-24 div.sk-text-repr-fallback {display: none;}</style><div id=\"sk-container-id-24\" class=\"sk-top-container\"><div class=\"sk-text-repr-fallback\"><pre>RandomForestClassifier(max_depth=7, n_estimators=350, random_state=1)</pre><b>In a Jupyter environment, please rerun this cell to show the HTML representation or trust the notebook. <br />On GitHub, the HTML representation is unable to render, please try loading this page with nbviewer.org.</b></div><div class=\"sk-container\" hidden><div class=\"sk-item\"><div class=\"sk-estimator sk-toggleable\"><input class=\"sk-toggleable__control sk-hidden--visually\" id=\"sk-estimator-id-24\" type=\"checkbox\" checked><label for=\"sk-estimator-id-24\" class=\"sk-toggleable__label sk-toggleable__label-arrow\">RandomForestClassifier</label><div class=\"sk-toggleable__content\"><pre>RandomForestClassifier(max_depth=7, n_estimators=350, random_state=1)</pre></div></div></div></div></div>"
          },
          "metadata": {}
        }
      ],
      "execution_count": null
    },
    {
      "cell_type": "code",
      "source": [
        "from sklearn.metrics import mean_absolute_error\n",
        "preds = model.predict(imp_x_train)\n",
        "mean_absolute_error(y_train,preds)"
      ],
      "metadata": {
        "trusted": true,
        "execution": {
          "iopub.status.busy": "2025-07-03T15:30:40.772725Z",
          "iopub.execute_input": "2025-07-03T15:30:40.773156Z",
          "iopub.status.idle": "2025-07-03T15:30:40.83082Z",
          "shell.execute_reply.started": "2025-07-03T15:30:40.773126Z",
          "shell.execute_reply": "2025-07-03T15:30:40.830121Z"
        },
        "id": "GvV_FnPR8PHS",
        "outputId": "39b55239-0f8c-4faa-f088-e5b1e5065cb9"
      },
      "outputs": [
        {
          "execution_count": 228,
          "output_type": "execute_result",
          "data": {
            "text/plain": "0.10213243546576879"
          },
          "metadata": {}
        }
      ],
      "execution_count": null
    },
    {
      "cell_type": "code",
      "source": [
        "pred = model.predict(imp_x_test)\n"
      ],
      "metadata": {
        "trusted": true,
        "execution": {
          "iopub.status.busy": "2025-07-03T15:30:44.130294Z",
          "iopub.execute_input": "2025-07-03T15:30:44.131222Z",
          "iopub.status.idle": "2025-07-03T15:30:44.168133Z",
          "shell.execute_reply.started": "2025-07-03T15:30:44.13119Z",
          "shell.execute_reply": "2025-07-03T15:30:44.166893Z"
        },
        "id": "_NPv149B8PHS"
      },
      "outputs": [],
      "execution_count": null
    },
    {
      "cell_type": "code",
      "source": [
        "print(pred)"
      ],
      "metadata": {
        "trusted": true,
        "execution": {
          "iopub.status.busy": "2025-07-03T15:30:44.99285Z",
          "iopub.execute_input": "2025-07-03T15:30:44.993515Z",
          "iopub.status.idle": "2025-07-03T15:30:44.998806Z",
          "shell.execute_reply.started": "2025-07-03T15:30:44.993484Z",
          "shell.execute_reply": "2025-07-03T15:30:44.997836Z"
        },
        "id": "yj9OaUSQ8PHS",
        "outputId": "99b1b2c7-dd7b-45e8-9a77-e5fa6e76ff7d"
      },
      "outputs": [
        {
          "name": "stdout",
          "text": "[0 0 0 0 0 0 1 0 1 0 0 0 1 0 1 1 0 0 0 0 0 1 1 0 1 0 1 0 0 0 0 0 1 0 0 0 0\n 0 0 1 0 0 0 1 1 0 0 0 1 1 0 0 1 1 0 0 0 0 0 1 0 0 0 1 1 1 1 0 0 1 1 0 1 0\n 1 0 0 1 0 1 1 0 0 0 0 0 1 0 1 1 0 0 1 0 0 0 1 0 1 0 1 0 0 0 0 0 0 0 0 0 0\n 1 1 1 1 0 0 1 0 1 1 0 1 0 0 1 0 1 0 0 0 0 0 0 0 0 0 0 0 0 0 1 0 0 0 0 0 0\n 0 0 1 0 0 0 0 0 1 1 0 1 1 1 1 0 0 1 0 0 1 0 0 0 0 0 0 1 1 0 1 1 0 0 1 0 1\n 0 1 0 0 0 0 0 1 0 1 0 1 1 0 0 1 1 0 1 0 0 0 0 1 0 0 0 0 1 0 0 1 0 1 0 1 0\n 1 0 1 1 0 1 0 0 0 1 0 0 0 0 0 0 1 1 1 1 0 0 0 0 1 0 1 0 1 0 1 0 0 0 0 0 1\n 0 0 0 1 1 0 0 0 0 0 0 0 0 1 1 0 1 0 0 0 0 0 1 1 0 1 0 0 0 0 0 0 1 0 0 0 0\n 1 0 0 0 0 0 0 0 1 1 1 1 0 0 0 0 0 0 1 1 0 0 0 0 0 0 0 1 1 0 1 0 0 0 1 0 0\n 1 0 0 0 0 0 0 0 0 0 1 0 1 0 0 0 1 1 0 0 0 1 0 1 0 0 1 0 1 1 0 1 0 0 0 1 0\n 0 1 0 0 1 1 0 0 0 0 0 0 1 1 0 1 0 0 0 0 0 1 0 0 0 1 0 1 0 0 1 0 1 0 0 0 0\n 0 1 1 1 1 1 0 1 0 0 0]\n",
          "output_type": "stream"
        }
      ],
      "execution_count": null
    },
    {
      "cell_type": "code",
      "source": [
        "# Save test predictions to file\n",
        "output = pd.DataFrame({'PassengerId': test['PassengerId'].astype(int),\n",
        "                       'Survived': (pred)})\n",
        "output.to_csv('submission.csv', index=False)"
      ],
      "metadata": {
        "trusted": true,
        "execution": {
          "iopub.status.busy": "2025-07-03T15:30:47.049794Z",
          "iopub.execute_input": "2025-07-03T15:30:47.050491Z",
          "iopub.status.idle": "2025-07-03T15:30:47.057595Z",
          "shell.execute_reply.started": "2025-07-03T15:30:47.050465Z",
          "shell.execute_reply": "2025-07-03T15:30:47.056685Z"
        },
        "id": "XmeRZ22z8PHS"
      },
      "outputs": [],
      "execution_count": null
    },
    {
      "cell_type": "code",
      "source": [
        "df = pd.read_csv(\"submission.csv\")\n",
        "df.head()"
      ],
      "metadata": {
        "trusted": true,
        "execution": {
          "iopub.status.busy": "2025-07-03T15:30:48.157655Z",
          "iopub.execute_input": "2025-07-03T15:30:48.158723Z",
          "iopub.status.idle": "2025-07-03T15:30:48.169832Z",
          "shell.execute_reply.started": "2025-07-03T15:30:48.158687Z",
          "shell.execute_reply": "2025-07-03T15:30:48.168937Z"
        },
        "id": "3MG87VHY8PHS",
        "outputId": "bedb6bd5-43bc-4497-d996-923bde0351ed"
      },
      "outputs": [
        {
          "execution_count": 232,
          "output_type": "execute_result",
          "data": {
            "text/plain": "   PassengerId  Survived\n0          892         0\n1          893         0\n2          894         0\n3          895         0\n4          896         0",
            "text/html": "<div>\n<style scoped>\n    .dataframe tbody tr th:only-of-type {\n        vertical-align: middle;\n    }\n\n    .dataframe tbody tr th {\n        vertical-align: top;\n    }\n\n    .dataframe thead th {\n        text-align: right;\n    }\n</style>\n<table border=\"1\" class=\"dataframe\">\n  <thead>\n    <tr style=\"text-align: right;\">\n      <th></th>\n      <th>PassengerId</th>\n      <th>Survived</th>\n    </tr>\n  </thead>\n  <tbody>\n    <tr>\n      <th>0</th>\n      <td>892</td>\n      <td>0</td>\n    </tr>\n    <tr>\n      <th>1</th>\n      <td>893</td>\n      <td>0</td>\n    </tr>\n    <tr>\n      <th>2</th>\n      <td>894</td>\n      <td>0</td>\n    </tr>\n    <tr>\n      <th>3</th>\n      <td>895</td>\n      <td>0</td>\n    </tr>\n    <tr>\n      <th>4</th>\n      <td>896</td>\n      <td>0</td>\n    </tr>\n  </tbody>\n</table>\n</div>"
          },
          "metadata": {}
        }
      ],
      "execution_count": null
    },
    {
      "cell_type": "code",
      "source": [],
      "metadata": {
        "trusted": true,
        "id": "Wi6uFz828PHS"
      },
      "outputs": [],
      "execution_count": null
    }
  ]
}